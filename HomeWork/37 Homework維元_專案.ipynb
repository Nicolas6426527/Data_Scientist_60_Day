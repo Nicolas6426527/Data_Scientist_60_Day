{
 "cells": [
  {
   "cell_type": "markdown",
   "metadata": {},
   "source": [
    "## 作業:\n",
    "今天課程中以一個案例，說明資料分析的流程與探索性分析，是否對於課程中一開始的問題，更有想法了?!    \n",
    "Q1: 哪一個問題不適合用資料科學解決?   \n",
    "Q2: 以你的角度來分析，為什麼這樣的問題，較不適合用資料來解決?    \n",
    "將答案寫在論壇中，大家一起互相討論激盪。   \n",
    "![](作業圖檔.PNG)"
   ]
  },
  {
   "cell_type": "code",
   "execution_count": 1,
   "metadata": {},
   "outputs": [
    {
     "data": {
      "text/plain": [
       "'主要是選擇Mr./Ms. Right這題，要做分析，要把所有的變數轉變成數字，以量化的方式去做到呈現，但選擇Mr./Ms. Right1，包含了許多情感的因素，而在\\n實際得情況下，都常自己所幻想的，但都與實際上有較大的落差，再來就是資料收集的難度過高，不知到那些變數能有相關性'"
      ]
     },
     "execution_count": 1,
     "metadata": {},
     "output_type": "execute_result"
    }
   ],
   "source": [
    "'''\n",
    "你的答案\n",
    "'''\n",
    "\"\"\"主要是選擇Mr./Ms. Right這題，要做分析，要把所有的變數轉變成數字，以量化的方式去做到呈現，但選擇Mr./Ms. Right1，包含了許多情感的因素，而在\n",
    "實際得情況下，都常自己所幻想的，但都與實際上有較大的落差，再來就是資料收集的難度過高，不知到那些變數能有相關性\"\"\""
   ]
  }
 ],
 "metadata": {
  "colab": {
   "name": "Day33.YOLO 細節理解 - 網路輸出的後處理_HW.ipynb",
   "provenance": []
  },
  "kernelspec": {
   "display_name": "Python 3",
   "language": "python",
   "name": "python3"
  },
  "language_info": {
   "codemirror_mode": {
    "name": "ipython",
    "version": 3
   },
   "file_extension": ".py",
   "mimetype": "text/x-python",
   "name": "python",
   "nbconvert_exporter": "python",
   "pygments_lexer": "ipython3",
   "version": "3.8.1"
  }
 },
 "nbformat": 4,
 "nbformat_minor": 4
}
