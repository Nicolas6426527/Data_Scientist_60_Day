{
 "cells": [
  {
   "cell_type": "markdown",
   "metadata": {
    "colab_type": "text",
    "id": "P6xk2_jLsvFF"
   },
   "source": [
    "# [作業目標]\n",
    "\n",
    "1. 請比較對一個 100 x 100 * 100 的陣列，使用不同方法對每一個元素 +1 的時間比較。\n",
    "\n",
    "2. 如何從一個陣列中，找出出現頻率最高的數值與位置？\n",
    "\n",
    "3. 如何利用 list(...) 實現 a.tolist() 的效果？試著用程式實作。\n"
   ]
  },
  {
   "cell_type": "markdown",
   "metadata": {
    "colab_type": "text",
    "id": "uXGll28asvFS"
   },
   "source": [
    "# 作業 "
   ]
  },
  {
   "cell_type": "markdown",
   "metadata": {},
   "source": [
    "### 1. 請比較對一個 1000 x 100 x 100 的陣列，使用不同方法對每一個元素 +1 的時間比較。\n",
    "\n",
    "\n"
   ]
  },
  {
   "cell_type": "code",
   "execution_count": 1,
   "metadata": {},
   "outputs": [],
   "source": [
    "# 記得先 Import 正確的套件\n",
    "\n",
    "'''\n",
    "Your Code\n",
    "'''\n",
    "import numpy as np"
   ]
  },
  {
   "cell_type": "code",
   "execution_count": 2,
   "metadata": {
    "colab": {},
    "colab_type": "code",
    "id": "5QrYoyNWsvFS"
   },
   "outputs": [
    {
     "data": {
      "text/plain": [
       "array([[[0, 6, 7, ..., 2, 4, 2],\n",
       "        [1, 3, 6, ..., 8, 0, 7],\n",
       "        [3, 6, 1, ..., 0, 4, 7],\n",
       "        ...,\n",
       "        [5, 8, 6, ..., 0, 0, 4],\n",
       "        [9, 8, 6, ..., 7, 9, 1],\n",
       "        [7, 5, 2, ..., 5, 9, 2]],\n",
       "\n",
       "       [[9, 8, 6, ..., 7, 9, 7],\n",
       "        [4, 6, 1, ..., 6, 4, 0],\n",
       "        [1, 5, 5, ..., 5, 0, 5],\n",
       "        ...,\n",
       "        [8, 5, 5, ..., 6, 8, 6],\n",
       "        [4, 3, 8, ..., 1, 2, 7],\n",
       "        [7, 2, 5, ..., 7, 5, 6]],\n",
       "\n",
       "       [[7, 7, 2, ..., 8, 7, 0],\n",
       "        [2, 4, 8, ..., 2, 6, 0],\n",
       "        [7, 2, 6, ..., 9, 0, 0],\n",
       "        ...,\n",
       "        [9, 4, 8, ..., 0, 1, 7],\n",
       "        [1, 4, 2, ..., 7, 0, 2],\n",
       "        [7, 0, 1, ..., 0, 0, 9]],\n",
       "\n",
       "       ...,\n",
       "\n",
       "       [[7, 1, 9, ..., 5, 5, 7],\n",
       "        [6, 2, 6, ..., 6, 4, 0],\n",
       "        [3, 5, 6, ..., 9, 8, 5],\n",
       "        ...,\n",
       "        [3, 7, 0, ..., 5, 5, 0],\n",
       "        [8, 8, 9, ..., 2, 7, 9],\n",
       "        [8, 4, 1, ..., 2, 4, 6]],\n",
       "\n",
       "       [[0, 5, 5, ..., 2, 4, 8],\n",
       "        [0, 4, 5, ..., 0, 1, 9],\n",
       "        [5, 3, 5, ..., 4, 7, 1],\n",
       "        ...,\n",
       "        [4, 9, 5, ..., 4, 2, 4],\n",
       "        [0, 2, 5, ..., 4, 2, 4],\n",
       "        [8, 6, 4, ..., 9, 4, 3]],\n",
       "\n",
       "       [[2, 1, 2, ..., 4, 0, 9],\n",
       "        [6, 1, 9, ..., 4, 4, 1],\n",
       "        [2, 5, 0, ..., 8, 9, 9],\n",
       "        ...,\n",
       "        [8, 2, 4, ..., 7, 4, 7],\n",
       "        [5, 0, 3, ..., 7, 5, 2],\n",
       "        [1, 6, 7, ..., 6, 1, 4]]])"
      ]
     },
     "execution_count": 2,
     "metadata": {},
     "output_type": "execute_result"
    }
   ],
   "source": [
    "Z = np.random.randint(0, 10, 1000000).reshape(100, 100, 100)\n",
    "Z"
   ]
  },
  {
   "cell_type": "code",
   "execution_count": 3,
   "metadata": {},
   "outputs": [
    {
     "name": "stdout",
     "output_type": "stream",
     "text": [
      "55.4 ns ± 24.9 ns per loop (mean ± std. dev. of 7 runs, 10 loops each)\n"
     ]
    },
    {
     "data": {
      "text/plain": [
       "array([[[ 1,  7,  8, ...,  3,  5,  3],\n",
       "        [ 2,  4,  7, ...,  9,  1,  8],\n",
       "        [ 4,  7,  2, ...,  1,  5,  8],\n",
       "        ...,\n",
       "        [ 6,  9,  7, ...,  1,  1,  5],\n",
       "        [10,  9,  7, ...,  8, 10,  2],\n",
       "        [ 8,  6,  3, ...,  6, 10,  3]],\n",
       "\n",
       "       [[10,  9,  7, ...,  8, 10,  8],\n",
       "        [ 5,  7,  2, ...,  7,  5,  1],\n",
       "        [ 2,  6,  6, ...,  6,  1,  6],\n",
       "        ...,\n",
       "        [ 9,  6,  6, ...,  7,  9,  7],\n",
       "        [ 5,  4,  9, ...,  2,  3,  8],\n",
       "        [ 8,  3,  6, ...,  8,  6,  7]],\n",
       "\n",
       "       [[ 8,  8,  3, ...,  9,  8,  1],\n",
       "        [ 3,  5,  9, ...,  3,  7,  1],\n",
       "        [ 8,  3,  7, ..., 10,  1,  1],\n",
       "        ...,\n",
       "        [10,  5,  9, ...,  1,  2,  8],\n",
       "        [ 2,  5,  3, ...,  8,  1,  3],\n",
       "        [ 8,  1,  2, ...,  1,  1, 10]],\n",
       "\n",
       "       ...,\n",
       "\n",
       "       [[ 8,  2, 10, ...,  6,  6,  8],\n",
       "        [ 7,  3,  7, ...,  7,  5,  1],\n",
       "        [ 4,  6,  7, ..., 10,  9,  6],\n",
       "        ...,\n",
       "        [ 4,  8,  1, ...,  6,  6,  1],\n",
       "        [ 9,  9, 10, ...,  3,  8, 10],\n",
       "        [ 9,  5,  2, ...,  3,  5,  7]],\n",
       "\n",
       "       [[ 1,  6,  6, ...,  3,  5,  9],\n",
       "        [ 1,  5,  6, ...,  1,  2, 10],\n",
       "        [ 6,  4,  6, ...,  5,  8,  2],\n",
       "        ...,\n",
       "        [ 5, 10,  6, ...,  5,  3,  5],\n",
       "        [ 1,  3,  6, ...,  5,  3,  5],\n",
       "        [ 9,  7,  5, ..., 10,  5,  4]],\n",
       "\n",
       "       [[ 3,  2,  3, ...,  5,  1, 10],\n",
       "        [ 7,  2, 10, ...,  5,  5,  2],\n",
       "        [ 3,  6,  1, ...,  9, 10, 10],\n",
       "        ...,\n",
       "        [ 9,  3,  5, ...,  8,  5,  8],\n",
       "        [ 6,  1,  4, ...,  8,  6,  3],\n",
       "        [ 2,  7,  8, ...,  7,  2,  5]]])"
      ]
     },
     "execution_count": 3,
     "metadata": {},
     "output_type": "execute_result"
    }
   ],
   "source": [
    "%timeit -n 10 a = 2\n",
    "\n",
    "'''\n",
    "Your Code\n",
    "'''\n",
    "Z+1"
   ]
  },
  {
   "cell_type": "code",
   "execution_count": 5,
   "metadata": {},
   "outputs": [
    {
     "name": "stdout",
     "output_type": "stream",
     "text": [
      "39 ns ± 20.3 ns per loop (mean ± std. dev. of 7 runs, 10 loops each)\n"
     ]
    },
    {
     "data": {
      "text/plain": [
       "array([[[ 1,  7,  8, ...,  3,  5,  3],\n",
       "        [ 2,  4,  7, ...,  9,  1,  8],\n",
       "        [ 4,  7,  2, ...,  1,  5,  8],\n",
       "        ...,\n",
       "        [ 6,  9,  7, ...,  1,  1,  5],\n",
       "        [10,  9,  7, ...,  8, 10,  2],\n",
       "        [ 8,  6,  3, ...,  6, 10,  3]],\n",
       "\n",
       "       [[10,  9,  7, ...,  8, 10,  8],\n",
       "        [ 5,  7,  2, ...,  7,  5,  1],\n",
       "        [ 2,  6,  6, ...,  6,  1,  6],\n",
       "        ...,\n",
       "        [ 9,  6,  6, ...,  7,  9,  7],\n",
       "        [ 5,  4,  9, ...,  2,  3,  8],\n",
       "        [ 8,  3,  6, ...,  8,  6,  7]],\n",
       "\n",
       "       [[ 8,  8,  3, ...,  9,  8,  1],\n",
       "        [ 3,  5,  9, ...,  3,  7,  1],\n",
       "        [ 8,  3,  7, ..., 10,  1,  1],\n",
       "        ...,\n",
       "        [10,  5,  9, ...,  1,  2,  8],\n",
       "        [ 2,  5,  3, ...,  8,  1,  3],\n",
       "        [ 8,  1,  2, ...,  1,  1, 10]],\n",
       "\n",
       "       ...,\n",
       "\n",
       "       [[ 8,  2, 10, ...,  6,  6,  8],\n",
       "        [ 7,  3,  7, ...,  7,  5,  1],\n",
       "        [ 4,  6,  7, ..., 10,  9,  6],\n",
       "        ...,\n",
       "        [ 4,  8,  1, ...,  6,  6,  1],\n",
       "        [ 9,  9, 10, ...,  3,  8, 10],\n",
       "        [ 9,  5,  2, ...,  3,  5,  7]],\n",
       "\n",
       "       [[ 1,  6,  6, ...,  3,  5,  9],\n",
       "        [ 1,  5,  6, ...,  1,  2, 10],\n",
       "        [ 6,  4,  6, ...,  5,  8,  2],\n",
       "        ...,\n",
       "        [ 5, 10,  6, ...,  5,  3,  5],\n",
       "        [ 1,  3,  6, ...,  5,  3,  5],\n",
       "        [ 9,  7,  5, ..., 10,  5,  4]],\n",
       "\n",
       "       [[ 3,  2,  3, ...,  5,  1, 10],\n",
       "        [ 7,  2, 10, ...,  5,  5,  2],\n",
       "        [ 3,  6,  1, ...,  9, 10, 10],\n",
       "        ...,\n",
       "        [ 9,  3,  5, ...,  8,  5,  8],\n",
       "        [ 6,  1,  4, ...,  8,  6,  3],\n",
       "        [ 2,  7,  8, ...,  7,  2,  5]]])"
      ]
     },
     "execution_count": 5,
     "metadata": {},
     "output_type": "execute_result"
    }
   ],
   "source": [
    "%timeit -n 10 a = 2\n",
    "\n",
    "'''\n",
    "Your Code\n",
    "'''\n",
    "Z+[1]"
   ]
  },
  {
   "cell_type": "code",
   "execution_count": null,
   "metadata": {},
   "outputs": [],
   "source": [
    "%timeit -n 10 a = 2\n",
    "\n",
    "'''\n",
    "Your Code\n",
    "'''\n",
    "z"
   ]
  },
  {
   "cell_type": "markdown",
   "metadata": {},
   "source": [
    "### 2. 如何從一個陣列中，找出出現頻率最高的數值與位置？\n"
   ]
  },
  {
   "cell_type": "code",
   "execution_count": 58,
   "metadata": {
    "colab": {},
    "colab_type": "code",
    "id": "e1gVI0tvsvFY"
   },
   "outputs": [
    {
     "name": "stdout",
     "output_type": "stream",
     "text": [
      "[7 5 0 8 1 1 8 9 9 4 8 9 0 8 4 3 5 4 1 1 7 4 7 6 0 8 2 0 5 4 7 0 3 2 4 5 7\n",
      " 6 3 3 9 6 6 1 7 1 1 5 6 5]\n",
      "50\n"
     ]
    }
   ],
   "source": [
    "\n",
    "Z = np.random.randint(0,10,50)\n",
    "print(Z)\n",
    "print(len(Z))\n"
   ]
  },
  {
   "cell_type": "code",
   "execution_count": 60,
   "metadata": {},
   "outputs": [
    {
     "name": "stdout",
     "output_type": "stream",
     "text": [
      "[0 1 2 3 4 5 6 7 8 9]\n",
      "[5 7 2 4 6 6 5 6 5 4]\n",
      "出現多次數的數值是:1,約7次\n"
     ]
    }
   ],
   "source": [
    "'''\n",
    "Your Code\n",
    "'''\n",
    "a,s = np.unique(Z, return_counts=True)\n",
    "print(a)\n",
    "print(s)\n",
    "num=a[np.argmax(s)]\n",
    "print(f\"出現多次數的數值是:{num},約{np.max(s)}次\") "
   ]
  },
  {
   "cell_type": "code",
   "execution_count": 61,
   "metadata": {},
   "outputs": [
    {
     "data": {
      "text/plain": [
       "(array([ 4,  5, 18, 19, 43, 45, 46]),)"
      ]
     },
     "execution_count": 61,
     "metadata": {},
     "output_type": "execute_result"
    }
   ],
   "source": [
    "'''\n",
    "Your Code\n",
    "'''\n",
    "np.where(Z==num)"
   ]
  },
  {
   "cell_type": "markdown",
   "metadata": {},
   "source": [
    "### 3. 如何利用 list(...) 實現 a.tolist() 的效果？試著用程式實作。\n"
   ]
  },
  {
   "cell_type": "code",
   "execution_count": 62,
   "metadata": {},
   "outputs": [
    {
     "name": "stdout",
     "output_type": "stream",
     "text": [
      "[7, 4, 6, 9, 5, 3]\n",
      "[7, 4, 6, 9, 5, 3]\n",
      "[[7, 5, 1, 9], [9, 3, 8, 2], [4, 0, 4, 7]]\n",
      "[array([7, 5, 1, 9]), array([9, 3, 8, 2]), array([4, 0, 4, 7])]\n",
      "[[[2, 9], [6, 0], [6, 1]], [[1, 9], [2, 5], [1, 9]]]\n",
      "[array([[2, 9],\n",
      "       [6, 0],\n",
      "       [6, 1]]), array([[1, 9],\n",
      "       [2, 5],\n",
      "       [1, 9]])]\n"
     ]
    }
   ],
   "source": [
    "a = np.random.randint(10, size=6) \n",
    "\n",
    "print(a.tolist())\n",
    "print(list(a))\n",
    "\n",
    "\n",
    "b = np.random.randint(10, size=(3,4)) \n",
    "\n",
    "print(b.tolist())\n",
    "print(list(b))\n",
    "\n",
    "\n",
    "c = np.random.randint(10, size=(2,3,2)) \n",
    "\n",
    "print(c.tolist())\n",
    "print(list(c))\n"
   ]
  },
  {
   "cell_type": "code",
   "execution_count": 87,
   "metadata": {},
   "outputs": [],
   "source": [
    "'''\n",
    "Your Code\n",
    "'''\n",
    "a1=[]\n",
    "for i in a.flat:\n",
    "    a1.append(i)\n",
    "b1=[]\n",
    "for i in b:\n",
    "    b1.append(list(i))\n",
    "c1=[]\n",
    "for i in c:\n",
    "    a=[]\n",
    "    for k in i:\n",
    "        a.append(list(k))\n",
    "    c1.append(a)\n",
    "        "
   ]
  },
  {
   "cell_type": "code",
   "execution_count": 88,
   "metadata": {},
   "outputs": [
    {
     "data": {
      "text/plain": [
       "[[[2, 9], [6, 0], [6, 1]], [[1, 9], [2, 5], [1, 9]]]"
      ]
     },
     "execution_count": 88,
     "metadata": {},
     "output_type": "execute_result"
    }
   ],
   "source": [
    "\n",
    "c1"
   ]
  }
 ],
 "metadata": {
  "colab": {
   "name": "Day_023_HW.ipynb",
   "provenance": []
  },
  "kernelspec": {
   "display_name": "Python 3",
   "language": "python",
   "name": "python3"
  },
  "language_info": {
   "codemirror_mode": {
    "name": "ipython",
    "version": 3
   },
   "file_extension": ".py",
   "mimetype": "text/x-python",
   "name": "python",
   "nbconvert_exporter": "python",
   "pygments_lexer": "ipython3",
   "version": "3.8.1"
  }
 },
 "nbformat": 4,
 "nbformat_minor": 4
}
