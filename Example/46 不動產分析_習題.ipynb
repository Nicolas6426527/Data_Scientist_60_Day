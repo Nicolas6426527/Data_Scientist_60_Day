{
 "cells": [
  {
   "cell_type": "markdown",
   "metadata": {
    "id": "ecrVHDiuAto7"
   },
   "source": [
    "哈摟，各位資料科學家大家好，我是來自於台北市\"頭期款不足\"的阿宏，我想買房子很久了，但是不知道要買哪個地方，想先從內政部不動產交易時價登入資料中先了解行情，我現在手邊蒐集了台北市Taipei(A_lvr_land_A.csv)、新北市New_Taipei(F_lvr_land_A.csv)、台中市Taichung(B_lvr_land_A.csv)、高雄市Kaohsiung(E_lvr_land_A.csv)共四份資料，請各位資料科學家幫幫忙分析了。"
   ]
  },
  {
   "cell_type": "markdown",
   "metadata": {
    "id": "9_PILIgwAtpW"
   },
   "source": [
    "# 1.不動產資料檔案讀取並串接"
   ]
  },
  {
   "cell_type": "markdown",
   "metadata": {
    "id": "54hz4CgWAtpX"
   },
   "source": [
    "資料分散在4個資料，先合併成一個資料方便後續分析，但是我發現有英文欄位跟中文欄位，留下中文刪除英文，並加入新的欄位用以分辨台北市Taipei、新北市New_Taipei、台中市Taichung、高雄市Kaohsiung"
   ]
  },
  {
   "cell_type": "markdown",
   "metadata": {
    "id": "UAgGy_owAtpY"
   },
   "source": [
    "1. 利用Pandas中的pd.read_csv()分別讀取A_lvr_land_A.csv、B_lvr_land_A.csv、E_lvr_land_A.csv、F_lvr_land_A.csv\n",
    "2. 刪除csv中第二列英文翻譯，The villages and towns urban district,transaction sign,land sector position building sector house number plate,land shifting total area square meter,....\n",
    "3. 生成city欄位其中以地區分類台北市Taipei(A_lvr_land_A.csv)、新北市New_Taipei(F_lvr_land_A.csv)、台中市Taichung(B_lvr_land_A.csv)、高雄市Kaohsiung(E_lvr_land_A.csv)\n",
    "4. 將以上四份資料運用pd.concat()串接"
   ]
  },
  {
   "cell_type": "code",
   "execution_count": 1,
   "metadata": {
    "id": "AtdUcGYAAtpY"
   },
   "outputs": [],
   "source": [
    "import pandas as pd \n",
    "import numpy as np"
   ]
  },
  {
   "cell_type": "code",
   "execution_count": 2,
   "metadata": {
    "id": "qaBwVWbkAtpZ"
   },
   "outputs": [
    {
     "name": "stderr",
     "output_type": "stream",
     "text": [
      "/Library/Frameworks/Python.framework/Versions/3.8/lib/python3.8/site-packages/IPython/core/interactiveshell.py:3145: DtypeWarning: Columns (3,14,15,16,17,18,21,22,24,25) have mixed types.Specify dtype option on import or set low_memory=False.\n",
      "  has_raised = await self.run_ast_nodes(code_ast.body, cell_name,\n"
     ]
    }
   ],
   "source": [
    "#1.利用Pandas中的pd.read_csv()分別讀取A_lvr_land_A.csv、B_lvr_land_A.csv、E_lvr_land_A.csv、F_lvr_land_A.csv\n",
    "df_AA=pd.read_csv(\"A_lvr_land_A.csv\",parse_dates=[\"交易年月日\"])\n",
    "df_BA=pd.read_csv(\"B_lvr_land_A.csv\",parse_dates=[\"交易年月日\"])\n",
    "df_EA=pd.read_csv(\"E_lvr_land_A.csv\",parse_dates=[\"交易年月日\"])\n",
    "df_FA=pd.read_csv(\"F_lvr_land_A.csv\",parse_dates=[\"交易年月日\"])"
   ]
  },
  {
   "cell_type": "code",
   "execution_count": 3,
   "metadata": {
    "id": "ulv52OOeAtpZ"
   },
   "outputs": [],
   "source": [
    "#2.刪除csv中第二列英文翻譯，The villages and towns urban district,transaction sign,land sector position building sector house number plate,land shifting total area square meter,....\n",
    "df_AA.drop(index=0 , inplace=True)\n",
    "df_BA.drop(index=0 , inplace=True)\n",
    "df_EA.drop(index=0 , inplace=True)\n",
    "df_FA.drop(index=0 , inplace=True)"
   ]
  },
  {
   "cell_type": "code",
   "execution_count": 4,
   "metadata": {
    "id": "p7cqARS8Atpa"
   },
   "outputs": [],
   "source": [
    "#3. 生成city欄位其中以地區分類台北市Taipei(A_lvr_land_A.csv)、新北市New_Taipei(F_lvr_land_A.csv)、台中市Taichung(B_lvr_land_A.csv)、高雄市Kaohsiung(E_lvr_land_A.csv)\n",
    "df_AA[\"city\"]=pd.Series([\"Taipei\"]*df_AA.shape[0])\n",
    "df_BA[\"city\"]=pd.Series([\"New_Taipei\"]*df_BA.shape[0])\n",
    "df_EA[\"city\"]=pd.Series([\"Taichung\"]*df_EA.shape[0])\n",
    "df_FA[\"city\"]=pd.Series([\"Kaohsiung\"]*df_FA.shape[0])\n",
    "\n"
   ]
  },
  {
   "cell_type": "code",
   "execution_count": 5,
   "metadata": {
    "id": "5Sajh33BAtpb"
   },
   "outputs": [
    {
     "name": "stdout",
     "output_type": "stream",
     "text": [
      "<class 'pandas.core.frame.DataFrame'>\n",
      "Int64Index: 59476 entries, 1 to 19818\n",
      "Data columns (total 33 columns):\n",
      " #   Column         Non-Null Count  Dtype  \n",
      "---  ------         --------------  -----  \n",
      " 0   鄉鎮市區           59476 non-null  object \n",
      " 1   交易標的           59476 non-null  object \n",
      " 2   土地區段位置建物區段門牌   59476 non-null  object \n",
      " 3   土地移轉總面積平方公尺    59476 non-null  object \n",
      " 4   都市土地使用分區       54097 non-null  object \n",
      " 5   非都市土地使用分區      4306 non-null   object \n",
      " 6   非都市土地使用編定      4302 non-null   object \n",
      " 7   交易年月日          59476 non-null  object \n",
      " 8   交易筆棟數          59476 non-null  object \n",
      " 9   移轉層次           49724 non-null  object \n",
      " 10  總樓層數           49664 non-null  object \n",
      " 11  建物型態           59476 non-null  object \n",
      " 12  主要用途           47889 non-null  object \n",
      " 13  主要建材           49680 non-null  object \n",
      " 14  建築完成年月         48690 non-null  object \n",
      " 15  建物移轉總面積平方公尺    59476 non-null  object \n",
      " 16  建物現況格局-房       59476 non-null  object \n",
      " 17  建物現況格局-廳       59476 non-null  object \n",
      " 18  建物現況格局-衛       59476 non-null  object \n",
      " 19  建物現況格局-隔間      59476 non-null  object \n",
      " 20  有無管理組織         59476 non-null  object \n",
      " 21  總價元            59476 non-null  object \n",
      " 22  單價元平方公尺        58156 non-null  object \n",
      " 23  車位類別           23685 non-null  object \n",
      " 24  車位移轉總面積(平方公尺)  59476 non-null  object \n",
      " 25  車位總價元          59476 non-null  object \n",
      " 26  備註             24759 non-null  object \n",
      " 27  編號             59476 non-null  object \n",
      " 28  主建物面積          59476 non-null  float64\n",
      " 29  附屬建物面積         59476 non-null  float64\n",
      " 30  陽台面積           59476 non-null  float64\n",
      " 31  電梯             32944 non-null  object \n",
      " 32  city           59472 non-null  object \n",
      "dtypes: float64(3), object(30)\n",
      "memory usage: 15.4+ MB\n"
     ]
    }
   ],
   "source": [
    "#4. 將以上四份資料運用pd.concat()串接\n",
    "df = pd.concat([df_AA,df_BA,df_EA,df_FA])\n",
    "df.info()"
   ]
  },
  {
   "cell_type": "markdown",
   "metadata": {
    "id": "vf6GM8Z_Atpb"
   },
   "source": [
    "# 2. 資料清理與切片"
   ]
  },
  {
   "cell_type": "markdown",
   "metadata": {
    "id": "QMPrmISNAtpb"
   },
   "source": [
    "因為我是想買來住的房子，所以幫忙刪除住宿用途以外的資料，並且限制\n",
    "1. 交易年月日，限制在109年\n",
    "2. 建物現況格局-房，1~5間 \n",
    "3. 建物現況格局-廳，1~2廳"
   ]
  },
  {
   "cell_type": "markdown",
   "metadata": {
    "id": "1C-ImCfTAtpc"
   },
   "source": [
    "以下columns_mapping、analysis_columns、columns_type提供給資料科學家配合使用\n",
    "1. 利用.rename()並配合以下columns_mapping，將原中文欄位名稱改為英文方便之後分析\n",
    "2. 取出主要用途(main_use)為'住家用'以及都市土地使用分區(use_zoning)為'住'的資料並針對以下欄位analysis_columns做分析並去除na值\n",
    "   (提示:先取完之後再.dropna())\n",
    "3. 觀察欄位資料型態，並利用.astype()搭配以下提供的columns_type做欄位型態轉換\n",
    "4. 做資料切片將<br>\n",
    "    新增欄位交易年月日(tx_dt_year)，從交易年月日(tx_dt)萃取出年份<br>\n",
    "    1.交易年月日(tx_dt_year)，限制在109年<br>\n",
    "    2.建物現況格局-房(room_number)，限制在1到5間<br>\n",
    "    3.建物現況格局-廳(hall_number)，限制在1到2廳<br>\n",
    "    4.最後運用.reset_index()重新定義索引"
   ]
  },
  {
   "cell_type": "code",
   "execution_count": 6,
   "metadata": {
    "id": "rBSElFmKAtpc"
   },
   "outputs": [],
   "source": [
    "columns_mapping = {'鄉鎮市區':'towns',\n",
    "'交易標的':'transaction_sign',\n",
    "'土地區段位置建物區段門牌':'house_number',\n",
    "'土地移轉總面積平方公尺':'land_area_square_meter', \n",
    "'都市土地使用分區':'use_zoning', \n",
    "'非都市土地使用分區':'land_use_district',\n",
    "'非都市土地使用編定':'land_use',\n",
    "'交易年月日':'tx_dt', \n",
    " '交易筆棟數':'transaction_pen_number', \n",
    " '移轉層次':'shifting_level', \n",
    " '總樓層數':'total_floor_number', \n",
    " '建物型態':'building_state', \n",
    " '主要用途':'main_use', \n",
    " '主要建材':'main_materials',\n",
    " '建築完成年月':'complete_date', \n",
    " '建物移轉總面積平方公尺':'building_area_square_meter', \n",
    " '建物現況格局-房':'room_number', \n",
    " '建物現況格局-廳':'hall_number', \n",
    " '建物現況格局-衛':'health_number', \n",
    "'建物現況格局-隔間':'compartmented_number', \n",
    " '有無管理組織':'manages', \n",
    " '總價元':'total_price', \n",
    " '單價元平方公尺':'unit_price', \n",
    " '車位類別':'berth_category', \n",
    " '車位移轉總面積(平方公尺)':'berth_area_square_meter',\n",
    "'車位總價元':'berth_price', \n",
    " '備註':'note', \n",
    " '編號':'serial_number', \n",
    " '主建物面積':'main_building_area', \n",
    " '附屬建物面積':'auxiliary_building_area', \n",
    " '陽台面積':'balcony_area', \n",
    " '電梯':'elevator'\n",
    "                  }\n",
    "analysis_columns = ['city','towns','main_use','use_zoning','total_price','building_area_square_meter',\n",
    "                                     'main_building_area',\n",
    "                                     'tx_dt','unit_price','room_number','hall_number','health_number']\n",
    "# columns_type = {'total_price': 'int','unit_price':'float','building_area_square_meter':'float',\n",
    "#                                       'main_building_area': 'float',\n",
    "#                                       'room_number': 'int','hall_number': 'int','health_number': 'int'}\n",
    "columns_type = {'total_price': 'int','unit_price':'float','building_area_square_meter':'float',\n",
    "                                       'main_building_area': 'float'\n",
    "                                       }\n"
   ]
  },
  {
   "cell_type": "code",
   "execution_count": 7,
   "metadata": {
    "id": "JFrw25keAtpe",
    "scrolled": true
   },
   "outputs": [],
   "source": [
    "#1. 利用.rename()並配合以下columns_mapping，將原中文欄位名稱改為英文方便之後分析\n",
    "df.rename(columns=columns_mapping,inplace=True)"
   ]
  },
  {
   "cell_type": "code",
   "execution_count": 8,
   "metadata": {
    "id": "GMPSUJFcAtpf"
   },
   "outputs": [],
   "source": [
    "#2. 取出主要用途(main_use)為'住家用'以及都市土地使用分區(use_zoning)為'住'的資料並針對以下欄位analysis_columns做分析並去除na值 (提示:先取完之後再.dropna())\n",
    "#   (提示:先取完之後再.dropna())\n",
    "dfa=df[df[\"main_use\"]==\"住家用\"]\n",
    "df_live= dfa[dfa[\"use_zoning\"]==\"住\"][analysis_columns]"
   ]
  },
  {
   "cell_type": "code",
   "execution_count": 9,
   "metadata": {
    "id": "GMPSUJFcAtpf"
   },
   "outputs": [],
   "source": [
    "df_live.dropna(inplace=True)"
   ]
  },
  {
   "cell_type": "code",
   "execution_count": 10,
   "metadata": {
    "id": "GMPSUJFcAtpf"
   },
   "outputs": [
    {
     "name": "stdout",
     "output_type": "stream",
     "text": [
      "<class 'pandas.core.frame.DataFrame'>\n",
      "Int64Index: 7802 entries, 1 to 11512\n",
      "Data columns (total 12 columns):\n",
      " #   Column                      Non-Null Count  Dtype  \n",
      "---  ------                      --------------  -----  \n",
      " 0   city                        7802 non-null   object \n",
      " 1   towns                       7802 non-null   object \n",
      " 2   main_use                    7802 non-null   object \n",
      " 3   use_zoning                  7802 non-null   object \n",
      " 4   total_price                 7802 non-null   object \n",
      " 5   building_area_square_meter  7802 non-null   object \n",
      " 6   main_building_area          7802 non-null   float64\n",
      " 7   tx_dt                       7802 non-null   object \n",
      " 8   unit_price                  7802 non-null   object \n",
      " 9   room_number                 7802 non-null   object \n",
      " 10  hall_number                 7802 non-null   object \n",
      " 11  health_number               7802 non-null   object \n",
      "dtypes: float64(1), object(11)\n",
      "memory usage: 792.4+ KB\n"
     ]
    }
   ],
   "source": [
    "df_live.info()"
   ]
  },
  {
   "cell_type": "code",
   "execution_count": 11,
   "metadata": {
    "id": "Y5_BWtUpAtph"
   },
   "outputs": [
    {
     "name": "stdout",
     "output_type": "stream",
     "text": [
      "<class 'pandas.core.frame.DataFrame'>\n",
      "Int64Index: 7802 entries, 1 to 11512\n",
      "Data columns (total 12 columns):\n",
      " #   Column                      Non-Null Count  Dtype  \n",
      "---  ------                      --------------  -----  \n",
      " 0   city                        7802 non-null   object \n",
      " 1   towns                       7802 non-null   object \n",
      " 2   main_use                    7802 non-null   object \n",
      " 3   use_zoning                  7802 non-null   object \n",
      " 4   total_price                 7802 non-null   int64  \n",
      " 5   building_area_square_meter  7802 non-null   float64\n",
      " 6   main_building_area          7802 non-null   float64\n",
      " 7   tx_dt                       7802 non-null   object \n",
      " 8   unit_price                  7802 non-null   float64\n",
      " 9   room_number                 7802 non-null   object \n",
      " 10  hall_number                 7802 non-null   object \n",
      " 11  health_number               7802 non-null   object \n",
      "dtypes: float64(3), int64(1), object(8)\n",
      "memory usage: 792.4+ KB\n"
     ]
    }
   ],
   "source": [
    "#3. 觀察欄位資料型態，並利用.astype()搭配以下提供的columns_type做欄位型態轉換\n",
    "df_live=df_live.astype(columns_type)\n",
    "df_live.info()"
   ]
  },
  {
   "cell_type": "code",
   "execution_count": 12,
   "metadata": {
    "id": "Y5_BWtUpAtph"
   },
   "outputs": [],
   "source": [
    "df_live.reset_index(drop=True,inplace=True)"
   ]
  },
  {
   "cell_type": "code",
   "execution_count": 13,
   "metadata": {
    "id": "AxF8yHDeAtph",
    "scrolled": true
   },
   "outputs": [],
   "source": [
    "#4. 做資料切片將\n",
    "#     新增欄位交易年月日(tx_dt_year)，從交易年月日(tx_dt)萃取出年份\n",
    "#     1.交易年月日(tx_dt_year)，限制在109年\n",
    "#     2.建物現況格局-房(room_number)，限制在1到5間\n",
    "#     3.建物現況格局-廳(hall_number)，限制在1到2廳\n",
    "#     4.最後運用.reset_index()重新定義索引\n",
    "\n",
    "df_live[\"tx_dt_year\"]=[ i[:3] for i in df_live[\"tx_dt\"]]"
   ]
  },
  {
   "cell_type": "code",
   "execution_count": 14,
   "metadata": {
    "id": "AxF8yHDeAtph",
    "scrolled": true
   },
   "outputs": [],
   "source": [
    "def number(x):\n",
    "    if int(x.room_number)>=1 and int(x.room_number)<=5:\n",
    "        if int(x.hall_number) >=1 and int(x.hall_number)<=2:\n",
    "            return True\n",
    "        else:\n",
    "            return False\n",
    "    else:\n",
    "        return False\n",
    "df_live[\"number\"] = df_live[[\"room_number\",\"hall_number\"]].apply(number,axis=1)"
   ]
  },
  {
   "cell_type": "code",
   "execution_count": 15,
   "metadata": {
    "id": "AxF8yHDeAtph",
    "scrolled": true
   },
   "outputs": [],
   "source": [
    "df_live=df_live[df_live[\"number\"].tolist()].reset_index(drop=True)"
   ]
  },
  {
   "cell_type": "code",
   "execution_count": 16,
   "metadata": {
    "id": "AxF8yHDeAtph",
    "scrolled": true
   },
   "outputs": [],
   "source": [
    "df_live.drop(columns=\"number\",inplace=True)"
   ]
  },
  {
   "cell_type": "code",
   "execution_count": 17,
   "metadata": {
    "id": "AxF8yHDeAtph",
    "scrolled": true
   },
   "outputs": [
    {
     "data": {
      "text/plain": [
       "3    3674\n",
       "2    1422\n",
       "4    1058\n",
       "1     587\n",
       "5     248\n",
       "Name: room_number, dtype: int64"
      ]
     },
     "execution_count": 17,
     "metadata": {},
     "output_type": "execute_result"
    }
   ],
   "source": [
    "df_live[\"room_number\"].value_counts()"
   ]
  },
  {
   "cell_type": "markdown",
   "metadata": {
    "id": "zTOTmNDxAtpi"
   },
   "source": [
    "# 3. 建立自定義特徵加入分析\n"
   ]
  },
  {
   "cell_type": "markdown",
   "metadata": {
    "id": "cyL2au1aAtpi"
   },
   "source": [
    "以台灣來說大家都是以坪為單位計算使用面積，應該是不會問說你家有幾平方公尺吧?，但是偏偏資料中沒有以坪為單位計算，所以接下來請各位幫忙產生新的欄位以坪為單位計算面積，轉換公式我也幫你找好了，在下面的定義。<br>\n",
    "定義 : 1平方公尺相當於0.3025坪 <br>\n",
    "建立新特徵\n",
    "1. 建物移轉總面積坪(building_area_square_feet) : 建物移轉總面積平方公尺\\*0.3025\n",
    "2. 主建物面積坪(main_building_area_square_feet) : 主建物面積\\*0.3025\n",
    "3. 單價元坪(unit_price_square_feet) : 單價元平方公尺/0.3025"
   ]
  },
  {
   "cell_type": "markdown",
   "metadata": {
    "id": "O-BL5boZAtpi"
   },
   "source": [
    "可以利用.describe()做一下資料觀察，是否有奇怪的資料?<br>\n",
    "如果有請將資料移除，並說明為什麼移除此資料?<br>\n",
    "移除後再用.describe()觀察是否還有奇怪的資料?"
   ]
  },
  {
   "cell_type": "code",
   "execution_count": 18,
   "metadata": {
    "id": "vWILawwvAtpj"
   },
   "outputs": [],
   "source": [
    "# 建立新特徵\n",
    "# 1. 建物移轉總面積坪(building_area_square_feet) : 建物移轉總面積平方公尺*0.3025\n",
    "# 2. 主建物面積坪(main_building_area_square_feet) : 主建物面積*0.3025\n",
    "# 3. 單價元坪(unit_price_square_feet) : 單價元平方公尺/0.3025\n",
    "\n",
    "df_live[\"building_area_square_feet\"] = df_live[\"building_area_square_meter\"].map(lambda x : x*0.3025)\n",
    "df_live[\"main_building_area_square_feet\"]=df_live[\"main_building_area\"].map(lambda x : x*0.3025)\n",
    "df_live[\"unit_price_square_feet\"]=df_live[\"unit_price\"].map(lambda x : x/0.3025)"
   ]
  },
  {
   "cell_type": "code",
   "execution_count": 19,
   "metadata": {
    "id": "vWILawwvAtpj"
   },
   "outputs": [
    {
     "name": "stdout",
     "output_type": "stream",
     "text": [
      "<class 'pandas.core.frame.DataFrame'>\n",
      "RangeIndex: 6989 entries, 0 to 6988\n",
      "Data columns (total 16 columns):\n",
      " #   Column                          Non-Null Count  Dtype  \n",
      "---  ------                          --------------  -----  \n",
      " 0   city                            6989 non-null   object \n",
      " 1   towns                           6989 non-null   object \n",
      " 2   main_use                        6989 non-null   object \n",
      " 3   use_zoning                      6989 non-null   object \n",
      " 4   total_price                     6989 non-null   int64  \n",
      " 5   building_area_square_meter      6989 non-null   float64\n",
      " 6   main_building_area              6989 non-null   float64\n",
      " 7   tx_dt                           6989 non-null   object \n",
      " 8   unit_price                      6989 non-null   float64\n",
      " 9   room_number                     6989 non-null   object \n",
      " 10  hall_number                     6989 non-null   object \n",
      " 11  health_number                   6989 non-null   object \n",
      " 12  tx_dt_year                      6989 non-null   object \n",
      " 13  building_area_square_feet       6989 non-null   float64\n",
      " 14  main_building_area_square_feet  6989 non-null   float64\n",
      " 15  unit_price_square_feet          6989 non-null   float64\n",
      "dtypes: float64(6), int64(1), object(9)\n",
      "memory usage: 873.8+ KB\n"
     ]
    }
   ],
   "source": [
    "df_live.info()"
   ]
  },
  {
   "cell_type": "code",
   "execution_count": 20,
   "metadata": {
    "id": "ZuAZPbnNAtpj",
    "scrolled": true
   },
   "outputs": [
    {
     "data": {
      "text/html": [
       "<div>\n",
       "<style scoped>\n",
       "    .dataframe tbody tr th:only-of-type {\n",
       "        vertical-align: middle;\n",
       "    }\n",
       "\n",
       "    .dataframe tbody tr th {\n",
       "        vertical-align: top;\n",
       "    }\n",
       "\n",
       "    .dataframe thead th {\n",
       "        text-align: right;\n",
       "    }\n",
       "</style>\n",
       "<table border=\"1\" class=\"dataframe\">\n",
       "  <thead>\n",
       "    <tr style=\"text-align: right;\">\n",
       "      <th></th>\n",
       "      <th>total_price</th>\n",
       "      <th>building_area_square_meter</th>\n",
       "      <th>main_building_area</th>\n",
       "      <th>unit_price</th>\n",
       "      <th>building_area_square_feet</th>\n",
       "      <th>main_building_area_square_feet</th>\n",
       "      <th>unit_price_square_feet</th>\n",
       "    </tr>\n",
       "  </thead>\n",
       "  <tbody>\n",
       "    <tr>\n",
       "      <th>count</th>\n",
       "      <td>6.989000e+03</td>\n",
       "      <td>6989.000000</td>\n",
       "      <td>6989.000000</td>\n",
       "      <td>6989.000000</td>\n",
       "      <td>6989.000000</td>\n",
       "      <td>6989.000000</td>\n",
       "      <td>6.989000e+03</td>\n",
       "    </tr>\n",
       "    <tr>\n",
       "      <th>mean</th>\n",
       "      <td>1.167462e+07</td>\n",
       "      <td>122.446452</td>\n",
       "      <td>82.432052</td>\n",
       "      <td>95309.189154</td>\n",
       "      <td>37.040052</td>\n",
       "      <td>24.935696</td>\n",
       "      <td>3.150717e+05</td>\n",
       "    </tr>\n",
       "    <tr>\n",
       "      <th>std</th>\n",
       "      <td>1.260670e+07</td>\n",
       "      <td>64.345152</td>\n",
       "      <td>37.905940</td>\n",
       "      <td>59646.064258</td>\n",
       "      <td>19.464409</td>\n",
       "      <td>11.466547</td>\n",
       "      <td>1.971771e+05</td>\n",
       "    </tr>\n",
       "    <tr>\n",
       "      <th>min</th>\n",
       "      <td>0.000000e+00</td>\n",
       "      <td>0.970000</td>\n",
       "      <td>0.000000</td>\n",
       "      <td>0.000000</td>\n",
       "      <td>0.293425</td>\n",
       "      <td>0.000000</td>\n",
       "      <td>0.000000e+00</td>\n",
       "    </tr>\n",
       "    <tr>\n",
       "      <th>25%</th>\n",
       "      <td>5.600000e+06</td>\n",
       "      <td>82.960000</td>\n",
       "      <td>60.720000</td>\n",
       "      <td>53625.000000</td>\n",
       "      <td>25.095400</td>\n",
       "      <td>18.367800</td>\n",
       "      <td>1.772727e+05</td>\n",
       "    </tr>\n",
       "    <tr>\n",
       "      <th>50%</th>\n",
       "      <td>8.600000e+06</td>\n",
       "      <td>109.420000</td>\n",
       "      <td>79.020000</td>\n",
       "      <td>79957.000000</td>\n",
       "      <td>33.099550</td>\n",
       "      <td>23.903550</td>\n",
       "      <td>2.643207e+05</td>\n",
       "    </tr>\n",
       "    <tr>\n",
       "      <th>75%</th>\n",
       "      <td>1.344000e+07</td>\n",
       "      <td>148.000000</td>\n",
       "      <td>96.010000</td>\n",
       "      <td>119485.000000</td>\n",
       "      <td>44.770000</td>\n",
       "      <td>29.043025</td>\n",
       "      <td>3.949917e+05</td>\n",
       "    </tr>\n",
       "    <tr>\n",
       "      <th>max</th>\n",
       "      <td>2.250000e+08</td>\n",
       "      <td>1444.950000</td>\n",
       "      <td>335.760000</td>\n",
       "      <td>610104.000000</td>\n",
       "      <td>437.097375</td>\n",
       "      <td>101.567400</td>\n",
       "      <td>2.016873e+06</td>\n",
       "    </tr>\n",
       "  </tbody>\n",
       "</table>\n",
       "</div>"
      ],
      "text/plain": [
       "        total_price  building_area_square_meter  main_building_area  \\\n",
       "count  6.989000e+03                 6989.000000         6989.000000   \n",
       "mean   1.167462e+07                  122.446452           82.432052   \n",
       "std    1.260670e+07                   64.345152           37.905940   \n",
       "min    0.000000e+00                    0.970000            0.000000   \n",
       "25%    5.600000e+06                   82.960000           60.720000   \n",
       "50%    8.600000e+06                  109.420000           79.020000   \n",
       "75%    1.344000e+07                  148.000000           96.010000   \n",
       "max    2.250000e+08                 1444.950000          335.760000   \n",
       "\n",
       "          unit_price  building_area_square_feet  \\\n",
       "count    6989.000000                6989.000000   \n",
       "mean    95309.189154                  37.040052   \n",
       "std     59646.064258                  19.464409   \n",
       "min         0.000000                   0.293425   \n",
       "25%     53625.000000                  25.095400   \n",
       "50%     79957.000000                  33.099550   \n",
       "75%    119485.000000                  44.770000   \n",
       "max    610104.000000                 437.097375   \n",
       "\n",
       "       main_building_area_square_feet  unit_price_square_feet  \n",
       "count                     6989.000000            6.989000e+03  \n",
       "mean                        24.935696            3.150717e+05  \n",
       "std                         11.466547            1.971771e+05  \n",
       "min                          0.000000            0.000000e+00  \n",
       "25%                         18.367800            1.772727e+05  \n",
       "50%                         23.903550            2.643207e+05  \n",
       "75%                         29.043025            3.949917e+05  \n",
       "max                        101.567400            2.016873e+06  "
      ]
     },
     "execution_count": 20,
     "metadata": {},
     "output_type": "execute_result"
    }
   ],
   "source": [
    "# 可以利用.describe()做一下資料觀察，是否有奇怪的資料?\n",
    "# 如果有請將資料移除，並說明為什麼移除此資料?\n",
    "df_live.describe()"
   ]
  },
  {
   "cell_type": "code",
   "execution_count": 21,
   "metadata": {
    "id": "ZuAZPbnNAtpj",
    "scrolled": true
   },
   "outputs": [],
   "source": [
    "col = [\"total_price\",\"main_building_area\",\"unit_price\",\"main_building_area_square_feet\",\"unit_price_square_feet\"]\n",
    "index =[]\n",
    "for i in col:\n",
    "    a=df_live[df_live[i]==0].index\n",
    "    index.extend(a)\n",
    "\n",
    "indexok = sorted(list(set(index)))"
   ]
  },
  {
   "cell_type": "code",
   "execution_count": 22,
   "metadata": {
    "id": "ZuAZPbnNAtpj",
    "scrolled": true
   },
   "outputs": [
    {
     "data": {
      "text/html": [
       "<div>\n",
       "<style scoped>\n",
       "    .dataframe tbody tr th:only-of-type {\n",
       "        vertical-align: middle;\n",
       "    }\n",
       "\n",
       "    .dataframe tbody tr th {\n",
       "        vertical-align: top;\n",
       "    }\n",
       "\n",
       "    .dataframe thead th {\n",
       "        text-align: right;\n",
       "    }\n",
       "</style>\n",
       "<table border=\"1\" class=\"dataframe\">\n",
       "  <thead>\n",
       "    <tr style=\"text-align: right;\">\n",
       "      <th></th>\n",
       "      <th>total_price</th>\n",
       "      <th>building_area_square_meter</th>\n",
       "      <th>main_building_area</th>\n",
       "      <th>unit_price</th>\n",
       "      <th>building_area_square_feet</th>\n",
       "      <th>main_building_area_square_feet</th>\n",
       "      <th>unit_price_square_feet</th>\n",
       "    </tr>\n",
       "  </thead>\n",
       "  <tbody>\n",
       "    <tr>\n",
       "      <th>count</th>\n",
       "      <td>6.949000e+03</td>\n",
       "      <td>6949.000000</td>\n",
       "      <td>6949.000000</td>\n",
       "      <td>6949.000000</td>\n",
       "      <td>6949.000000</td>\n",
       "      <td>6949.000000</td>\n",
       "      <td>6.949000e+03</td>\n",
       "    </tr>\n",
       "    <tr>\n",
       "      <th>mean</th>\n",
       "      <td>1.170544e+07</td>\n",
       "      <td>122.506224</td>\n",
       "      <td>82.906549</td>\n",
       "      <td>95495.895381</td>\n",
       "      <td>37.058133</td>\n",
       "      <td>25.079231</td>\n",
       "      <td>3.156889e+05</td>\n",
       "    </tr>\n",
       "    <tr>\n",
       "      <th>std</th>\n",
       "      <td>1.263178e+07</td>\n",
       "      <td>64.331091</td>\n",
       "      <td>37.493836</td>\n",
       "      <td>59706.032712</td>\n",
       "      <td>19.460155</td>\n",
       "      <td>11.341885</td>\n",
       "      <td>1.973753e+05</td>\n",
       "    </tr>\n",
       "    <tr>\n",
       "      <th>min</th>\n",
       "      <td>4.100000e+05</td>\n",
       "      <td>7.440000</td>\n",
       "      <td>7.440000</td>\n",
       "      <td>3239.000000</td>\n",
       "      <td>2.250600</td>\n",
       "      <td>2.250600</td>\n",
       "      <td>1.070744e+04</td>\n",
       "    </tr>\n",
       "    <tr>\n",
       "      <th>25%</th>\n",
       "      <td>5.600000e+06</td>\n",
       "      <td>83.010000</td>\n",
       "      <td>61.060000</td>\n",
       "      <td>53697.000000</td>\n",
       "      <td>25.110525</td>\n",
       "      <td>18.470650</td>\n",
       "      <td>1.775107e+05</td>\n",
       "    </tr>\n",
       "    <tr>\n",
       "      <th>50%</th>\n",
       "      <td>8.600000e+06</td>\n",
       "      <td>109.430000</td>\n",
       "      <td>79.180000</td>\n",
       "      <td>80192.000000</td>\n",
       "      <td>33.102575</td>\n",
       "      <td>23.951950</td>\n",
       "      <td>2.650975e+05</td>\n",
       "    </tr>\n",
       "    <tr>\n",
       "      <th>75%</th>\n",
       "      <td>1.350000e+07</td>\n",
       "      <td>147.990000</td>\n",
       "      <td>96.150000</td>\n",
       "      <td>119720.000000</td>\n",
       "      <td>44.766975</td>\n",
       "      <td>29.085375</td>\n",
       "      <td>3.957686e+05</td>\n",
       "    </tr>\n",
       "    <tr>\n",
       "      <th>max</th>\n",
       "      <td>2.250000e+08</td>\n",
       "      <td>1444.950000</td>\n",
       "      <td>335.760000</td>\n",
       "      <td>610104.000000</td>\n",
       "      <td>437.097375</td>\n",
       "      <td>101.567400</td>\n",
       "      <td>2.016873e+06</td>\n",
       "    </tr>\n",
       "  </tbody>\n",
       "</table>\n",
       "</div>"
      ],
      "text/plain": [
       "        total_price  building_area_square_meter  main_building_area  \\\n",
       "count  6.949000e+03                 6949.000000         6949.000000   \n",
       "mean   1.170544e+07                  122.506224           82.906549   \n",
       "std    1.263178e+07                   64.331091           37.493836   \n",
       "min    4.100000e+05                    7.440000            7.440000   \n",
       "25%    5.600000e+06                   83.010000           61.060000   \n",
       "50%    8.600000e+06                  109.430000           79.180000   \n",
       "75%    1.350000e+07                  147.990000           96.150000   \n",
       "max    2.250000e+08                 1444.950000          335.760000   \n",
       "\n",
       "          unit_price  building_area_square_feet  \\\n",
       "count    6949.000000                6949.000000   \n",
       "mean    95495.895381                  37.058133   \n",
       "std     59706.032712                  19.460155   \n",
       "min      3239.000000                   2.250600   \n",
       "25%     53697.000000                  25.110525   \n",
       "50%     80192.000000                  33.102575   \n",
       "75%    119720.000000                  44.766975   \n",
       "max    610104.000000                 437.097375   \n",
       "\n",
       "       main_building_area_square_feet  unit_price_square_feet  \n",
       "count                     6949.000000            6.949000e+03  \n",
       "mean                        25.079231            3.156889e+05  \n",
       "std                         11.341885            1.973753e+05  \n",
       "min                          2.250600            1.070744e+04  \n",
       "25%                         18.470650            1.775107e+05  \n",
       "50%                         23.951950            2.650975e+05  \n",
       "75%                         29.085375            3.957686e+05  \n",
       "max                        101.567400            2.016873e+06  "
      ]
     },
     "execution_count": 22,
     "metadata": {},
     "output_type": "execute_result"
    }
   ],
   "source": [
    "df_live.drop(index=indexok , inplace=True)  \n",
    "df_live.describe()"
   ]
  },
  {
   "cell_type": "markdown",
   "metadata": {
    "id": "uRcOUtYPAtpk"
   },
   "source": [
    "# 4. 找出台北市時價登入總價高度相關的變數"
   ]
  },
  {
   "cell_type": "markdown",
   "metadata": {
    "id": "sMgZ6PbwAtpk"
   },
   "source": [
    "阿宏我是台北人他想找出影響台北市總價、單價元坪的因子<br>\n",
    "相關係數0.3以下為低相關，0.3\\~0.7為中等相關，0.7以上為高度相關<br>\n",
    "1. 資料切片切出city欄位為台北市的資料，並找出時價登入總價(total_price)高度相關的變數\n",
    "2. 資料切片切出city欄位為台北市的資料，找出單價元坪(unit_price_square_feet)高度相關的變數"
   ]
  },
  {
   "cell_type": "code",
   "execution_count": 23,
   "metadata": {
    "id": "UZyUNLQzAtpm"
   },
   "outputs": [],
   "source": [
    "# 阿宏我是台北人他想找出影響台北市總價、單價元坪的因子\n",
    "# 1. 資料切片切出city欄位為台北市的資料，並找出時價登入總價(total_price)高度相關的變數\n",
    "df_Taipei=df_live[df_live[\"city\"]==\"Taipei\"]"
   ]
  },
  {
   "cell_type": "code",
   "execution_count": 24,
   "metadata": {
    "id": "UZyUNLQzAtpm"
   },
   "outputs": [
    {
     "name": "stdout",
     "output_type": "stream",
     "text": [
      "7 Numeric Features : ['total_price', 'building_area_square_meter', 'main_building_area', 'unit_price', 'building_area_square_feet', 'main_building_area_square_feet', 'unit_price_square_feet']\n",
      "\n"
     ]
    }
   ],
   "source": [
    "num_features = []\n",
    "for dtype, feature in zip(df_Taipei.dtypes, df_Taipei.columns):\n",
    "    if dtype == 'float64' or dtype == 'int64':\n",
    "        num_features.append(feature)\n",
    "print(f'{len(num_features)} Numeric Features : {num_features}\\n')"
   ]
  },
  {
   "cell_type": "code",
   "execution_count": 25,
   "metadata": {
    "id": "UZyUNLQzAtpm"
   },
   "outputs": [
    {
     "name": "stdout",
     "output_type": "stream",
     "text": [
      "9 category Features : ['city', 'towns', 'main_use', 'use_zoning', 'tx_dt', 'room_number', 'hall_number', 'health_number', 'tx_dt_year']\n",
      "\n"
     ]
    }
   ],
   "source": [
    "cat_features = []\n",
    "for dtype, feature in zip(df_Taipei.dtypes, df_Taipei.columns):\n",
    "    if dtype == 'object':\n",
    "        cat_features.append(feature)\n",
    "print(f'{len(cat_features)} category Features : {cat_features}\\n')"
   ]
  },
  {
   "cell_type": "code",
   "execution_count": 26,
   "metadata": {},
   "outputs": [
    {
     "name": "stdout",
     "output_type": "stream",
     "text": [
      "0.883683322219134\n",
      "0.7338655562060756\n",
      "0.618695082280104\n",
      "0.8836833222191339\n",
      "0.7338655562060755\n",
      "0.6186950822801041\n"
     ]
    }
   ],
   "source": [
    "#total_price為連續\n",
    "from scipy import stats\n",
    "\"\"\"連續VS連續\"\"\"\n",
    "corr = [ stats.pearsonr(df_Taipei[i], df_Taipei['total_price'])[0]for i in num_features[1:] ]\n",
    "def corr_sound(x):\n",
    "    if x < 0.1:\n",
    "        qual =\"Negligible\"\n",
    "    elif x <=0.39:\n",
    "        qual = 'Small'\n",
    "    elif x <=0.69:\n",
    "        qual = 'Medium'\n",
    "    elif x <=0.99:\n",
    "        qual = 'Large'\n",
    "    else:\n",
    "        qual = 'ALL'\n",
    "        \n",
    "    return qual\n",
    "result_corr = []\n",
    "for i in corr:\n",
    "    print(i)\n",
    "    a = corr_sound(i)\n",
    "    result_corr.append(a)"
   ]
  },
  {
   "cell_type": "code",
   "execution_count": 27,
   "metadata": {},
   "outputs": [
    {
     "name": "stderr",
     "output_type": "stream",
     "text": [
      "/Library/Frameworks/Python.framework/Versions/3.8/lib/python3.8/site-packages/pingouin/parametric.py:990: RuntimeWarning: invalid value encountered in double_scalars\n",
      "  msbetween = ssbetween / ddof1\n",
      "/Library/Frameworks/Python.framework/Versions/3.8/lib/python3.8/site-packages/pingouin/parametric.py:990: RuntimeWarning: invalid value encountered in double_scalars\n",
      "  msbetween = ssbetween / ddof1\n",
      "/Library/Frameworks/Python.framework/Versions/3.8/lib/python3.8/site-packages/pingouin/parametric.py:990: RuntimeWarning: invalid value encountered in double_scalars\n",
      "  msbetween = ssbetween / ddof1\n"
     ]
    },
    {
     "data": {
      "text/plain": [
       "['Negligible',\n",
       " 'Medium',\n",
       " 'Negligible',\n",
       " 'Negligible',\n",
       " 'Large',\n",
       " 'Medium',\n",
       " 'Medium',\n",
       " 'Large',\n",
       " 'Large']"
      ]
     },
     "execution_count": 27,
     "metadata": {},
     "output_type": "execute_result"
    }
   ],
   "source": [
    "\"\"\"連續ＶＳ離散\"\"\"\n",
    "import pingouin as pg\n",
    "#計算三種變異數\n",
    "result_Eta2=[]\n",
    "Eta2=[]\n",
    "for i in cat_features:\n",
    "    aov=pg.anova(dv=\"total_price\", between=i, data=df_Taipei, detailed=True)\n",
    "    etaSq=aov.SS[0] / (aov.SS[0] + aov.SS[1])\n",
    "    Eta2.append(etaSq)\n",
    "    if etaSq < .01:\n",
    "        qual = 'Negligible'\n",
    "    elif etaSq < .06:\n",
    "        qual = 'Small'\n",
    "    elif etaSq < .14:\n",
    "        qual = 'Medium'\n",
    "    else:\n",
    "        qual = 'Large'\n",
    "        \n",
    "    result_Eta2.append(qual)\n",
    "    \n",
    "result_Eta2"
   ]
  },
  {
   "cell_type": "code",
   "execution_count": 28,
   "metadata": {},
   "outputs": [
    {
     "data": {
      "text/html": [
       "<div>\n",
       "<style scoped>\n",
       "    .dataframe tbody tr th:only-of-type {\n",
       "        vertical-align: middle;\n",
       "    }\n",
       "\n",
       "    .dataframe tbody tr th {\n",
       "        vertical-align: top;\n",
       "    }\n",
       "\n",
       "    .dataframe thead th {\n",
       "        text-align: right;\n",
       "    }\n",
       "</style>\n",
       "<table border=\"1\" class=\"dataframe\">\n",
       "  <thead>\n",
       "    <tr style=\"text-align: right;\">\n",
       "      <th></th>\n",
       "      <th>column</th>\n",
       "      <th>category_Feature</th>\n",
       "      <th>level</th>\n",
       "      <th>score</th>\n",
       "    </tr>\n",
       "  </thead>\n",
       "  <tbody>\n",
       "    <tr>\n",
       "      <th>0</th>\n",
       "      <td>building_area_square_meter</td>\n",
       "      <td>continuous</td>\n",
       "      <td>Large</td>\n",
       "      <td>0.883683</td>\n",
       "    </tr>\n",
       "    <tr>\n",
       "      <th>1</th>\n",
       "      <td>main_building_area</td>\n",
       "      <td>continuous</td>\n",
       "      <td>Large</td>\n",
       "      <td>0.733866</td>\n",
       "    </tr>\n",
       "    <tr>\n",
       "      <th>2</th>\n",
       "      <td>unit_price</td>\n",
       "      <td>continuous</td>\n",
       "      <td>Medium</td>\n",
       "      <td>0.618695</td>\n",
       "    </tr>\n",
       "    <tr>\n",
       "      <th>3</th>\n",
       "      <td>building_area_square_feet</td>\n",
       "      <td>continuous</td>\n",
       "      <td>Large</td>\n",
       "      <td>0.883683</td>\n",
       "    </tr>\n",
       "    <tr>\n",
       "      <th>4</th>\n",
       "      <td>main_building_area_square_feet</td>\n",
       "      <td>continuous</td>\n",
       "      <td>Large</td>\n",
       "      <td>0.733866</td>\n",
       "    </tr>\n",
       "    <tr>\n",
       "      <th>5</th>\n",
       "      <td>unit_price_square_feet</td>\n",
       "      <td>continuous</td>\n",
       "      <td>Medium</td>\n",
       "      <td>0.618695</td>\n",
       "    </tr>\n",
       "    <tr>\n",
       "      <th>6</th>\n",
       "      <td>city</td>\n",
       "      <td>discrete</td>\n",
       "      <td>Negligible</td>\n",
       "      <td>0.000000</td>\n",
       "    </tr>\n",
       "    <tr>\n",
       "      <th>7</th>\n",
       "      <td>towns</td>\n",
       "      <td>discrete</td>\n",
       "      <td>Medium</td>\n",
       "      <td>0.081472</td>\n",
       "    </tr>\n",
       "    <tr>\n",
       "      <th>8</th>\n",
       "      <td>main_use</td>\n",
       "      <td>discrete</td>\n",
       "      <td>Negligible</td>\n",
       "      <td>0.000000</td>\n",
       "    </tr>\n",
       "    <tr>\n",
       "      <th>9</th>\n",
       "      <td>use_zoning</td>\n",
       "      <td>discrete</td>\n",
       "      <td>Negligible</td>\n",
       "      <td>0.000000</td>\n",
       "    </tr>\n",
       "    <tr>\n",
       "      <th>10</th>\n",
       "      <td>tx_dt</td>\n",
       "      <td>discrete</td>\n",
       "      <td>Large</td>\n",
       "      <td>0.322717</td>\n",
       "    </tr>\n",
       "    <tr>\n",
       "      <th>11</th>\n",
       "      <td>room_number</td>\n",
       "      <td>discrete</td>\n",
       "      <td>Medium</td>\n",
       "      <td>0.096064</td>\n",
       "    </tr>\n",
       "    <tr>\n",
       "      <th>12</th>\n",
       "      <td>hall_number</td>\n",
       "      <td>discrete</td>\n",
       "      <td>Medium</td>\n",
       "      <td>0.071955</td>\n",
       "    </tr>\n",
       "    <tr>\n",
       "      <th>13</th>\n",
       "      <td>health_number</td>\n",
       "      <td>discrete</td>\n",
       "      <td>Large</td>\n",
       "      <td>0.535887</td>\n",
       "    </tr>\n",
       "    <tr>\n",
       "      <th>14</th>\n",
       "      <td>tx_dt_year</td>\n",
       "      <td>discrete</td>\n",
       "      <td>Large</td>\n",
       "      <td>0.152587</td>\n",
       "    </tr>\n",
       "  </tbody>\n",
       "</table>\n",
       "</div>"
      ],
      "text/plain": [
       "                            column category_Feature       level     score\n",
       "0       building_area_square_meter       continuous       Large  0.883683\n",
       "1               main_building_area       continuous       Large  0.733866\n",
       "2                       unit_price       continuous      Medium  0.618695\n",
       "3        building_area_square_feet       continuous       Large  0.883683\n",
       "4   main_building_area_square_feet       continuous       Large  0.733866\n",
       "5           unit_price_square_feet       continuous      Medium  0.618695\n",
       "6                             city         discrete  Negligible  0.000000\n",
       "7                            towns         discrete      Medium  0.081472\n",
       "8                         main_use         discrete  Negligible  0.000000\n",
       "9                       use_zoning         discrete  Negligible  0.000000\n",
       "10                           tx_dt         discrete       Large  0.322717\n",
       "11                     room_number         discrete      Medium  0.096064\n",
       "12                     hall_number         discrete      Medium  0.071955\n",
       "13                   health_number         discrete       Large  0.535887\n",
       "14                      tx_dt_year         discrete       Large  0.152587"
      ]
     },
     "execution_count": 28,
     "metadata": {},
     "output_type": "execute_result"
    }
   ],
   "source": [
    "pd.DataFrame({\"column\":num_features[1:]+cat_features,\n",
    "              \"category_Feature\":[\"continuous\"]*len(num_features[1:])+[\"discrete\"]*len(cat_features),\n",
    "              \"level\":result_corr+result_Eta2,\n",
    "              \"score\":corr+Eta2})"
   ]
  },
  {
   "cell_type": "code",
   "execution_count": 29,
   "metadata": {
    "id": "UZyUNLQzAtpm"
   },
   "outputs": [
    {
     "name": "stdout",
     "output_type": "stream",
     "text": [
      "0.6186950822801041\n",
      "0.2919248524975717\n",
      "0.17344116378248728\n",
      "0.9999999999999996\n",
      "0.2919248524975717\n",
      "0.17344116378248728\n"
     ]
    }
   ],
   "source": [
    "# 2. 資料切片切出city欄位為台北市的資料，找出單價元坪(unit_price_square_feet)高度相關的變數\n",
    "\"\"\"連續VS連續\"\"\"\n",
    "corr_2 = [ stats.pearsonr(df_Taipei[i], df_Taipei['unit_price_square_feet'])[0]for i in num_features[:6] ]\n",
    "def corr_sound(x):\n",
    "    if x < 0.1:\n",
    "        qual =\"Negligible\"\n",
    "    elif x <=0.39:\n",
    "        qual = 'Small'\n",
    "    elif x <=0.69:\n",
    "        qual = 'Medium'\n",
    "    elif x <=0.99:\n",
    "        qual = 'Large'\n",
    "    else:\n",
    "        qual = 'ALL'\n",
    "        \n",
    "    return qual\n",
    "result_corr_2 = []\n",
    "for i in corr_2:\n",
    "    \n",
    "    print(i)\n",
    "    a = corr_sound(i)\n",
    "    result_corr_2.append(a)"
   ]
  },
  {
   "cell_type": "code",
   "execution_count": 30,
   "metadata": {
    "id": "UZyUNLQzAtpm"
   },
   "outputs": [
    {
     "name": "stderr",
     "output_type": "stream",
     "text": [
      "/Library/Frameworks/Python.framework/Versions/3.8/lib/python3.8/site-packages/pingouin/parametric.py:990: RuntimeWarning: invalid value encountered in double_scalars\n",
      "  msbetween = ssbetween / ddof1\n",
      "/Library/Frameworks/Python.framework/Versions/3.8/lib/python3.8/site-packages/pingouin/parametric.py:990: RuntimeWarning: invalid value encountered in double_scalars\n",
      "  msbetween = ssbetween / ddof1\n",
      "/Library/Frameworks/Python.framework/Versions/3.8/lib/python3.8/site-packages/pingouin/parametric.py:990: RuntimeWarning: invalid value encountered in double_scalars\n",
      "  msbetween = ssbetween / ddof1\n"
     ]
    },
    {
     "data": {
      "text/plain": [
       "['Negligible',\n",
       " 'Large',\n",
       " 'Negligible',\n",
       " 'Negligible',\n",
       " 'Large',\n",
       " 'Small',\n",
       " 'Negligible',\n",
       " 'Medium',\n",
       " 'Medium']"
      ]
     },
     "execution_count": 30,
     "metadata": {},
     "output_type": "execute_result"
    }
   ],
   "source": [
    "result_Eta2_2=[]\n",
    "Eta2_2=[]\n",
    "for i in cat_features:\n",
    "    aov=pg.anova(dv=\"unit_price_square_feet\", between=i, data=df_Taipei, detailed=True)\n",
    "    etaSq=aov.SS[0] / (aov.SS[0] + aov.SS[1])\n",
    "    Eta2_2.append(etaSq)\n",
    "    if etaSq < .01:\n",
    "        qual = 'Negligible'\n",
    "    elif etaSq < .06:\n",
    "        qual = 'Small'\n",
    "    elif etaSq < .14:\n",
    "        qual = 'Medium'\n",
    "    else:\n",
    "        qual = 'Large'\n",
    "        \n",
    "    result_Eta2_2.append(qual)\n",
    "    \n",
    "result_Eta2_2"
   ]
  },
  {
   "cell_type": "code",
   "execution_count": 31,
   "metadata": {
    "id": "UZyUNLQzAtpm"
   },
   "outputs": [
    {
     "data": {
      "text/html": [
       "<div>\n",
       "<style scoped>\n",
       "    .dataframe tbody tr th:only-of-type {\n",
       "        vertical-align: middle;\n",
       "    }\n",
       "\n",
       "    .dataframe tbody tr th {\n",
       "        vertical-align: top;\n",
       "    }\n",
       "\n",
       "    .dataframe thead th {\n",
       "        text-align: right;\n",
       "    }\n",
       "</style>\n",
       "<table border=\"1\" class=\"dataframe\">\n",
       "  <thead>\n",
       "    <tr style=\"text-align: right;\">\n",
       "      <th></th>\n",
       "      <th>column</th>\n",
       "      <th>category_Feature</th>\n",
       "      <th>level</th>\n",
       "      <th>score</th>\n",
       "    </tr>\n",
       "  </thead>\n",
       "  <tbody>\n",
       "    <tr>\n",
       "      <th>0</th>\n",
       "      <td>total_price</td>\n",
       "      <td>continuous</td>\n",
       "      <td>Medium</td>\n",
       "      <td>0.618695</td>\n",
       "    </tr>\n",
       "    <tr>\n",
       "      <th>1</th>\n",
       "      <td>building_area_square_meter</td>\n",
       "      <td>continuous</td>\n",
       "      <td>Small</td>\n",
       "      <td>0.291925</td>\n",
       "    </tr>\n",
       "    <tr>\n",
       "      <th>2</th>\n",
       "      <td>main_building_area</td>\n",
       "      <td>continuous</td>\n",
       "      <td>Small</td>\n",
       "      <td>0.173441</td>\n",
       "    </tr>\n",
       "    <tr>\n",
       "      <th>3</th>\n",
       "      <td>unit_price</td>\n",
       "      <td>continuous</td>\n",
       "      <td>ALL</td>\n",
       "      <td>1.000000</td>\n",
       "    </tr>\n",
       "    <tr>\n",
       "      <th>4</th>\n",
       "      <td>building_area_square_feet</td>\n",
       "      <td>continuous</td>\n",
       "      <td>Small</td>\n",
       "      <td>0.291925</td>\n",
       "    </tr>\n",
       "    <tr>\n",
       "      <th>5</th>\n",
       "      <td>main_building_area_square_feet</td>\n",
       "      <td>continuous</td>\n",
       "      <td>Small</td>\n",
       "      <td>0.173441</td>\n",
       "    </tr>\n",
       "    <tr>\n",
       "      <th>6</th>\n",
       "      <td>city</td>\n",
       "      <td>discrete</td>\n",
       "      <td>Negligible</td>\n",
       "      <td>0.000000</td>\n",
       "    </tr>\n",
       "    <tr>\n",
       "      <th>7</th>\n",
       "      <td>towns</td>\n",
       "      <td>discrete</td>\n",
       "      <td>Large</td>\n",
       "      <td>0.244842</td>\n",
       "    </tr>\n",
       "    <tr>\n",
       "      <th>8</th>\n",
       "      <td>main_use</td>\n",
       "      <td>discrete</td>\n",
       "      <td>Negligible</td>\n",
       "      <td>0.000000</td>\n",
       "    </tr>\n",
       "    <tr>\n",
       "      <th>9</th>\n",
       "      <td>use_zoning</td>\n",
       "      <td>discrete</td>\n",
       "      <td>Negligible</td>\n",
       "      <td>0.000000</td>\n",
       "    </tr>\n",
       "    <tr>\n",
       "      <th>10</th>\n",
       "      <td>tx_dt</td>\n",
       "      <td>discrete</td>\n",
       "      <td>Large</td>\n",
       "      <td>0.229664</td>\n",
       "    </tr>\n",
       "    <tr>\n",
       "      <th>11</th>\n",
       "      <td>room_number</td>\n",
       "      <td>discrete</td>\n",
       "      <td>Small</td>\n",
       "      <td>0.036001</td>\n",
       "    </tr>\n",
       "    <tr>\n",
       "      <th>12</th>\n",
       "      <td>hall_number</td>\n",
       "      <td>discrete</td>\n",
       "      <td>Negligible</td>\n",
       "      <td>0.000271</td>\n",
       "    </tr>\n",
       "    <tr>\n",
       "      <th>13</th>\n",
       "      <td>health_number</td>\n",
       "      <td>discrete</td>\n",
       "      <td>Medium</td>\n",
       "      <td>0.089344</td>\n",
       "    </tr>\n",
       "    <tr>\n",
       "      <th>14</th>\n",
       "      <td>tx_dt_year</td>\n",
       "      <td>discrete</td>\n",
       "      <td>Medium</td>\n",
       "      <td>0.069180</td>\n",
       "    </tr>\n",
       "  </tbody>\n",
       "</table>\n",
       "</div>"
      ],
      "text/plain": [
       "                            column category_Feature       level     score\n",
       "0                      total_price       continuous      Medium  0.618695\n",
       "1       building_area_square_meter       continuous       Small  0.291925\n",
       "2               main_building_area       continuous       Small  0.173441\n",
       "3                       unit_price       continuous         ALL  1.000000\n",
       "4        building_area_square_feet       continuous       Small  0.291925\n",
       "5   main_building_area_square_feet       continuous       Small  0.173441\n",
       "6                             city         discrete  Negligible  0.000000\n",
       "7                            towns         discrete       Large  0.244842\n",
       "8                         main_use         discrete  Negligible  0.000000\n",
       "9                       use_zoning         discrete  Negligible  0.000000\n",
       "10                           tx_dt         discrete       Large  0.229664\n",
       "11                     room_number         discrete       Small  0.036001\n",
       "12                     hall_number         discrete  Negligible  0.000271\n",
       "13                   health_number         discrete      Medium  0.089344\n",
       "14                      tx_dt_year         discrete      Medium  0.069180"
      ]
     },
     "execution_count": 31,
     "metadata": {},
     "output_type": "execute_result"
    }
   ],
   "source": [
    "pd.DataFrame({\"column\":num_features[:6]+cat_features,\n",
    "              \"category_Feature\":[\"continuous\"]*len(num_features[:6])+[\"discrete\"]*len(cat_features)\n",
    "             ,\"level\":result_corr_2+result_Eta2_2\n",
    "             ,\"score\":corr_2+Eta2_2})"
   ]
  },
  {
   "cell_type": "markdown",
   "metadata": {
    "id": "-y15EpRMAtpm"
   },
   "source": [
    "# 5. 資料視覺化並解釋\n"
   ]
  },
  {
   "cell_type": "markdown",
   "metadata": {
    "id": "TuAbtSFfAtpn"
   },
   "source": [
    "我想要以視覺化的方式來看房價資料，並且請各位資料科學家解釋圖表給阿宏我知道\n",
    "1. 以城市(city)為x軸，以單價元坪(unit_price_square_feet)為y軸畫出boxplot，並找出單價元坪(unit_price_square_feet)中位數最高的地區\n",
    "2. 進一步對台北市的資料做圖，以建物現況格局-房(room_number)為x軸，以總價元(total_price)為y軸畫出boxplot，並找出總價元(total_price)中位數最高的房間數。hint:資料切片找出city欄位為台北市的資料，再進一步畫圖\n",
    "3. 對台北市的資料做圖，先將地區(twons)做編碼在進行，再以地區(twon)為x軸，以單價元坪(unit_price_square_feet)為y軸畫出boxplot，並找出單價元坪(unit_price_square_feet)中位數最高的地區。hint:運用LabelEncoder()對地區(twons)做編碼，運用.inverse_transform()反查編碼的地區"
   ]
  },
  {
   "cell_type": "code",
   "execution_count": 34,
   "metadata": {
    "id": "AeGKqgwIAtpn"
   },
   "outputs": [],
   "source": [
    "#1. 以城市(city)為x軸，以單價元坪(unit_price_square_feet)為y軸畫出boxplot，並找出單價元坪(unit_price_square_feet)中位數最高的地區\n",
    "import seaborn as sns\n",
    "import matplotlib.pyplot  as plt"
   ]
  },
  {
   "cell_type": "code",
   "execution_count": 37,
   "metadata": {
    "id": "AeGKqgwIAtpn"
   },
   "outputs": [
    {
     "data": {
      "text/plain": [
       "<AxesSubplot:xlabel='city', ylabel='unit_price_square_feet'>"
      ]
     },
     "execution_count": 37,
     "metadata": {},
     "output_type": "execute_result"
    },
    {
     "data": {
      "image/png": "[encoded data removed]",
      "text/plain": [
       "<Figure size 720x720 with 1 Axes>"
      ]
     },
     "metadata": {
      "needs_background": "light"
     },
     "output_type": "display_data"
    }
   ],
   "source": [
    "plt.figure(figsize=(10, 10))\n",
    "sns.boxplot(x=\"city\",y=\"unit_price_square_feet\",data=df_live)\n",
    "\"\"\"\"最高的是Taipei\"\""
   ]
  },
  {
   "cell_type": "code",
   "execution_count": 40,
   "metadata": {
    "id": "2_sM72QLAtpn"
   },
   "outputs": [
    {
     "data": {
      "text/plain": [
       "<AxesSubplot:xlabel='room_number', ylabel='total_price'>"
      ]
     },
     "execution_count": 40,
     "metadata": {},
     "output_type": "execute_result"
    },
    {
     "data": {
      "image/png": "[encoded data removed]",
      "text/plain": [
       "<Figure size 432x288 with 1 Axes>"
      ]
     },
     "metadata": {
      "needs_background": "light"
     },
     "output_type": "display_data"
    }
   ],
   "source": [
    "#2. 進一步對台北市的資料做圖，以建物現況格局-房(room_number)為x軸，以總價元(total_price)為y軸畫出boxplot，並找出總價元(total_price)中位數最高的房間數。hint:資料切片找出city欄位為台北市的資料，再進一步畫圖\n",
    "sns.boxplot(x=\"room_number\",y=\"total_price\",data=df_Taipei)\n"
   ]
  },
  {
   "cell_type": "code",
   "execution_count": 44,
   "metadata": {
    "id": "PatbpuqLAtpo"
   },
   "outputs": [],
   "source": [
    "#3. 對台北市的資料做圖，先將地區(twons)做編碼在進行，再以地區(twon)為x軸，以單價元坪(unit_price_square_feet)為y軸畫出boxplot，並找出單價元坪(unit_price_square_feet)中位數最高的地區。\n",
    "# hint:運用LabelEncoder()對地區(twons)做編碼，運用.inverse_transform()反查編碼的地區\n",
    "from sklearn.preprocessing import LabelEncoder\n",
    "le = LabelEncoder()\n",
    "df_Taipei[\"towns\"]=le.fit_transform(df_Taipei[\"towns\"])"
   ]
  },
  {
   "cell_type": "code",
   "execution_count": 48,
   "metadata": {
    "id": "PatbpuqLAtpo"
   },
   "outputs": [
    {
     "data": {
      "text/plain": [
       "<AxesSubplot:xlabel='towns', ylabel='unit_price_square_feet'>"
      ]
     },
     "execution_count": 48,
     "metadata": {},
     "output_type": "execute_result"
    },
    {
     "data": {
      "image/png": "[encoded data removed]",
      "text/plain": [
       "<Figure size 432x288 with 1 Axes>"
      ]
     },
     "metadata": {
      "needs_background": "light"
     },
     "output_type": "display_data"
    }
   ],
   "source": [
    "sns.boxplot(x=\"towns\",y=\"unit_price_square_feet\",data=df_Taipei)"
   ]
  },
  {
   "cell_type": "code",
   "execution_count": 65,
   "metadata": {
    "id": "PatbpuqLAtpo"
   },
   "outputs": [],
   "source": [
    "towns_unit_price_square_feet=df_Taipei.groupby(\"towns\").agg({\"unit_price_square_feet\":np.median}).sort_values(by=\"unit_price_square_feet\",ascending=False)\n",
    "\n",
    "\n"
   ]
  },
  {
   "cell_type": "code",
   "execution_count": 64,
   "metadata": {
    "id": "PatbpuqLAtpo"
   },
   "outputs": [
    {
     "data": {
      "text/plain": [
       "array(['大安區', '大同區', '松山區', '中正區', '中山區', '信義區', '士林區', '南港區', '內湖區',\n",
       "       '北投區', '文山區', '萬華區'], dtype=object)"
      ]
     },
     "execution_count": 64,
     "metadata": {},
     "output_type": "execute_result"
    }
   ],
   "source": [
    "le.inverse_transform(towns_unit_price_square_feet.reset_index()[\"towns\"].values)"
   ]
  }
 ],
 "metadata": {
  "colab": {
   "name": "不動產分析_習題.ipynb",
   "provenance": []
  },
  "kernelspec": {
   "display_name": "Python 3",
   "language": "python",
   "name": "python3"
  },
  "language_info": {
   "codemirror_mode": {
    "name": "ipython",
    "version": 3
   },
   "file_extension": ".py",
   "mimetype": "text/x-python",
   "name": "python",
   "nbconvert_exporter": "python",
   "pygments_lexer": "ipython3",
   "version": "3.8.1"
  }
 },
 "nbformat": 4,
 "nbformat_minor": 4
}
