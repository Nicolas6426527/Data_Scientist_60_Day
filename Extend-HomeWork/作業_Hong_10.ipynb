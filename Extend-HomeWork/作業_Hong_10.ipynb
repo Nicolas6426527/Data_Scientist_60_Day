{
 "cells": [
  {
   "cell_type": "markdown",
   "metadata": {
    "id": "wVq5E9P9RNOm"
   },
   "source": [
    "作業目標:<br>\r\n",
    "1. 熟悉索引操作\r\n",
    "2. 分辨合併資料方法使用時機"
   ]
  },
  {
   "cell_type": "markdown",
   "metadata": {
    "id": "_dJGNbEQR9fw"
   },
   "source": [
    "作業重點:<br>\r\n",
    "1. 操作索引注意有分loc、iloc\r\n",
    "2. 合併資料方法concat、merge、join其中有參數可以調整inner或outer"
   ]
  },
  {
   "cell_type": "markdown",
   "metadata": {
    "id": "xm-gS3tlRQFU"
   },
   "source": [
    "題目:<br>\r\n",
    "讀取STOCK_DAY_0050_202009.csv串聯STOCK_DAY_0050_202010.csv，並且找出open小於close的資料"
   ]
  },
  {
   "cell_type": "code",
   "execution_count": 1,
   "metadata": {
    "id": "c28Som-RRO7s"
   },
   "outputs": [],
   "source": [
    "import pandas as pd"
   ]
  },
  {
   "cell_type": "code",
   "execution_count": 2,
   "metadata": {
    "id": "Ie41WfAQwcCS"
   },
   "outputs": [],
   "source": [
    "#讀取STOCK_DAY_0050_202009.csv、STOCK_DAY_0050_202010.csv\n",
    "df202009 = pd.read_csv(\"./Pandas_select_merge/STOCK_DAY_0050_202009.csv\")\n",
    "df202010 = pd.read_csv(\"./Pandas_select_merge/STOCK_DAY_0050_202010.csv\")"
   ]
  },
  {
   "cell_type": "code",
   "execution_count": 4,
   "metadata": {
    "id": "HwABxdTXwcCT"
   },
   "outputs": [
    {
     "data": {
      "text/html": [
       "<div>\n",
       "<style scoped>\n",
       "    .dataframe tbody tr th:only-of-type {\n",
       "        vertical-align: middle;\n",
       "    }\n",
       "\n",
       "    .dataframe tbody tr th {\n",
       "        vertical-align: top;\n",
       "    }\n",
       "\n",
       "    .dataframe thead th {\n",
       "        text-align: right;\n",
       "    }\n",
       "</style>\n",
       "<table border=\"1\" class=\"dataframe\">\n",
       "  <thead>\n",
       "    <tr style=\"text-align: right;\">\n",
       "      <th></th>\n",
       "      <th>date</th>\n",
       "      <th>open</th>\n",
       "      <th>high</th>\n",
       "      <th>low</th>\n",
       "      <th>close</th>\n",
       "    </tr>\n",
       "  </thead>\n",
       "  <tbody>\n",
       "    <tr>\n",
       "      <th>0</th>\n",
       "      <td>109/09/01</td>\n",
       "      <td>102.45</td>\n",
       "      <td>103.35</td>\n",
       "      <td>101.85</td>\n",
       "      <td>103.35</td>\n",
       "    </tr>\n",
       "    <tr>\n",
       "      <th>1</th>\n",
       "      <td>109/09/02</td>\n",
       "      <td>103.65</td>\n",
       "      <td>104.05</td>\n",
       "      <td>102.30</td>\n",
       "      <td>103.00</td>\n",
       "    </tr>\n",
       "    <tr>\n",
       "      <th>2</th>\n",
       "      <td>109/09/03</td>\n",
       "      <td>103.70</td>\n",
       "      <td>104.30</td>\n",
       "      <td>103.20</td>\n",
       "      <td>103.30</td>\n",
       "    </tr>\n",
       "  </tbody>\n",
       "</table>\n",
       "</div>"
      ],
      "text/plain": [
       "        date    open    high     low   close\n",
       "0  109/09/01  102.45  103.35  101.85  103.35\n",
       "1  109/09/02  103.65  104.05  102.30  103.00\n",
       "2  109/09/03  103.70  104.30  103.20  103.30"
      ]
     },
     "execution_count": 4,
     "metadata": {},
     "output_type": "execute_result"
    }
   ],
   "source": [
    "#串聯\n",
    "dfN = pd.concat([df202009,df202010])\n",
    "dfN.head(3)"
   ]
  },
  {
   "cell_type": "code",
   "execution_count": 11,
   "metadata": {
    "id": "_omQWydWwcCT",
    "scrolled": true
   },
   "outputs": [
    {
     "name": "stdout",
     "output_type": "stream",
     "text": [
      "      open   close\n",
      "0   102.45  103.35\n",
      "3   102.00  102.55\n",
      "5   102.75  103.00\n",
      "6   101.75  102.30\n",
      "7   102.80  103.20\n",
      "8   103.20  103.25\n",
      "9   103.50  104.55\n",
      "10  104.45  104.95\n",
      "19  101.35  102.30\n",
      "21  102.75  103.00\n",
      "1   104.00  104.25\n",
      "2   104.00  104.80\n",
      "3   105.45  106.20\n",
      "4   106.70  107.05\n",
      "9   105.65  106.60\n",
      "12  105.70  106.10\n"
     ]
    }
   ],
   "source": [
    "#找出open小於close的資料\n",
    "print(dfN.loc[dfN[\"open\"]< dfN[\"close\"],[\"open\",\"close\"]])"
   ]
  },
  {
   "cell_type": "code",
   "execution_count": null,
   "metadata": {
    "id": "mFib7gxHwcCU"
   },
   "outputs": [],
   "source": []
  }
 ],
 "metadata": {
  "colab": {
   "collapsed_sections": [],
   "name": "pandas_select_merge_hw題目.ipynb",
   "provenance": []
  },
  "kernelspec": {
   "display_name": "Python 3",
   "language": "python",
   "name": "python3"
  },
  "language_info": {
   "codemirror_mode": {
    "name": "ipython",
    "version": 3
   },
   "file_extension": ".py",
   "mimetype": "text/x-python",
   "name": "python",
   "nbconvert_exporter": "python",
   "pygments_lexer": "ipython3",
   "version": "3.8.1"
  }
 },
 "nbformat": 4,
 "nbformat_minor": 4
}
